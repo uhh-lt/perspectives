{
 "cells": [
  {
   "cell_type": "code",
   "execution_count": 1,
   "id": "f1cd0e2d",
   "metadata": {},
   "outputs": [],
   "source": [
    "import pandas as pd\n",
    "from pathlib import Path\n",
    "from datasets import load_from_disk"
   ]
  },
  {
   "cell_type": "code",
   "execution_count": 2,
   "id": "8d438601",
   "metadata": {},
   "outputs": [],
   "source": [
    "dataset = \"amazon\"\n",
    "aspect = \"product_category\"\n",
    "shot = \"16\""
   ]
  },
  {
   "cell_type": "code",
   "execution_count": null,
   "id": "a4283fac",
   "metadata": {},
   "outputs": [],
   "source": [
    "dataset_path = Path(f\"document_modification_fewshot/{dataset}/{dataset}_shot={shot}_{aspect}.parquet\")\n",
    "df = pd.read_parquet(dataset_path)"
   ]
  },
  {
   "cell_type": "code",
   "execution_count": 4,
   "id": "cf618694",
   "metadata": {},
   "outputs": [
    {
     "name": "stdout",
     "output_type": "stream",
     "text": [
      "Length of the dataset: 2400\n"
     ]
    }
   ],
   "source": [
    "print(f\"Length of the dataset: {len(df)}\")"
   ]
  },
  {
   "cell_type": "code",
   "execution_count": 5,
   "id": "ce5e1e84",
   "metadata": {},
   "outputs": [
    {
     "data": {
      "text/html": [
       "<div>\n",
       "<style scoped>\n",
       "    .dataframe tbody tr th:only-of-type {\n",
       "        vertical-align: middle;\n",
       "    }\n",
       "\n",
       "    .dataframe tbody tr th {\n",
       "        vertical-align: top;\n",
       "    }\n",
       "\n",
       "    .dataframe thead th {\n",
       "        text-align: right;\n",
       "    }\n",
       "</style>\n",
       "<table border=\"1\" class=\"dataframe\">\n",
       "  <thead>\n",
       "    <tr style=\"text-align: right;\">\n",
       "      <th></th>\n",
       "      <th>text</th>\n",
       "      <th>product_category</th>\n",
       "      <th>product_category-summary</th>\n",
       "      <th>product_category-keyphrases</th>\n",
       "    </tr>\n",
       "  </thead>\n",
       "  <tbody>\n",
       "    <tr>\n",
       "      <th>0</th>\n",
       "      <td>Don't waste your money Vary but quality use th...</td>\n",
       "      <td>toy</td>\n",
       "      <td>This review strongly criticizes the quality an...</td>\n",
       "      <td>helium balloons, poor quality, easily blown, d...</td>\n",
       "    </tr>\n",
       "    <tr>\n",
       "      <th>1</th>\n",
       "      <td>Very nice product! This product is every thing...</td>\n",
       "      <td>beauty</td>\n",
       "      <td>This review expresses strong satisfaction with...</td>\n",
       "      <td>nice product, advertised product, recommend pr...</td>\n",
       "    </tr>\n",
       "    <tr>\n",
       "      <th>2</th>\n",
       "      <td>Highly Disappointed My Bag Is Punctured I have...</td>\n",
       "      <td>grocery</td>\n",
       "      <td>This review details a negative experience with...</td>\n",
       "      <td>punctured bag, coffee delivery, damaged packag...</td>\n",
       "    </tr>\n",
       "    <tr>\n",
       "      <th>3</th>\n",
       "      <td>It's alright Soap holds up well, texture is ni...</td>\n",
       "      <td>beauty</td>\n",
       "      <td>This review discusses a \u0001\u0002 product, focusing o...</td>\n",
       "      <td>soap, soap holder, texture, fragrance, cheap m...</td>\n",
       "    </tr>\n",
       "    <tr>\n",
       "      <th>4</th>\n",
       "      <td>Smells good Scent doesn't last long</td>\n",
       "      <td>beauty</td>\n",
       "      <td>This review focuses on the \u0001\u0002 aspect of a prod...</td>\n",
       "      <td>good smell, scent longevity, fragrance, aroma,...</td>\n",
       "    </tr>\n",
       "    <tr>\n",
       "      <th>5</th>\n",
       "      <td>Best cold brew! Amazing flavor with just the r...</td>\n",
       "      <td>grocery</td>\n",
       "      <td>This review raves about the delightful taste a...</td>\n",
       "      <td>cold brew, amazing flavor, sweet, ready to dri...</td>\n",
       "    </tr>\n",
       "    <tr>\n",
       "      <th>6</th>\n",
       "      <td>Four Stars I do love these but we returned the...</td>\n",
       "      <td>shoes</td>\n",
       "      <td>This review discusses a footwear item, specifi...</td>\n",
       "      <td>narrow fit, girls shoes, returns, foot width, ...</td>\n",
       "    </tr>\n",
       "    <tr>\n",
       "      <th>7</th>\n",
       "      <td>More of a baby blue The color is not as descri...</td>\n",
       "      <td>furniture</td>\n",
       "      <td>This review centers on a discrepancy between t...</td>\n",
       "      <td>baby blue, color description, lighter blue, pr...</td>\n",
       "    </tr>\n",
       "    <tr>\n",
       "      <th>8</th>\n",
       "      <td>The charge doesn't last long, but it does the ...</td>\n",
       "      <td>pc</td>\n",
       "      <td>This review centers on a replacement battery i...</td>\n",
       "      <td>laptop battery, replacement battery, cheap bat...</td>\n",
       "    </tr>\n",
       "    <tr>\n",
       "      <th>9</th>\n",
       "      <td>Solid charging cables All 4 cables are working...</td>\n",
       "      <td>pc</td>\n",
       "      <td>This review discusses a set of charging cables...</td>\n",
       "      <td>charging cables, iPhone charging cable, 6 feet...</td>\n",
       "    </tr>\n",
       "  </tbody>\n",
       "</table>\n",
       "</div>"
      ],
      "text/plain": [
       "                                                text product_category  \\\n",
       "0  Don't waste your money Vary but quality use th...              toy   \n",
       "1  Very nice product! This product is every thing...           beauty   \n",
       "2  Highly Disappointed My Bag Is Punctured I have...          grocery   \n",
       "3  It's alright Soap holds up well, texture is ni...           beauty   \n",
       "4                Smells good Scent doesn't last long           beauty   \n",
       "5  Best cold brew! Amazing flavor with just the r...          grocery   \n",
       "6  Four Stars I do love these but we returned the...            shoes   \n",
       "7  More of a baby blue The color is not as descri...        furniture   \n",
       "8  The charge doesn't last long, but it does the ...               pc   \n",
       "9  Solid charging cables All 4 cables are working...               pc   \n",
       "\n",
       "                            product_category-summary  \\\n",
       "0  This review strongly criticizes the quality an...   \n",
       "1  This review expresses strong satisfaction with...   \n",
       "2  This review details a negative experience with...   \n",
       "3  This review discusses a \u0001\u0002 product, focusing o...   \n",
       "4  This review focuses on the \u0001\u0002 aspect of a prod...   \n",
       "5  This review raves about the delightful taste a...   \n",
       "6  This review discusses a footwear item, specifi...   \n",
       "7  This review centers on a discrepancy between t...   \n",
       "8  This review centers on a replacement battery i...   \n",
       "9  This review discusses a set of charging cables...   \n",
       "\n",
       "                         product_category-keyphrases  \n",
       "0  helium balloons, poor quality, easily blown, d...  \n",
       "1  nice product, advertised product, recommend pr...  \n",
       "2  punctured bag, coffee delivery, damaged packag...  \n",
       "3  soap, soap holder, texture, fragrance, cheap m...  \n",
       "4  good smell, scent longevity, fragrance, aroma,...  \n",
       "5  cold brew, amazing flavor, sweet, ready to dri...  \n",
       "6  narrow fit, girls shoes, returns, foot width, ...  \n",
       "7  baby blue, color description, lighter blue, pr...  \n",
       "8  laptop battery, replacement battery, cheap bat...  \n",
       "9  charging cables, iPhone charging cable, 6 feet...  "
      ]
     },
     "execution_count": 5,
     "metadata": {},
     "output_type": "execute_result"
    }
   ],
   "source": [
    "df.head(10)"
   ]
  },
  {
   "cell_type": "code",
   "execution_count": null,
   "id": "dcc6ca5a",
   "metadata": {},
   "outputs": [],
   "source": [
    "dataset = \"spotify\"\n",
    "aspect = \"emotion\"\n",
    "text_column = \"text\"\n",
    "text_column = f\"{aspect}-summary\"\n",
    "text_column = f\"{aspect}-keyphrases\"\n",
    "\n",
    "dataset_path = Path(f\"document_modification_fewshot/{dataset}/{dataset}_{aspect}_{text_column}\")\n",
    "training_data = load_from_disk(dataset_path)"
   ]
  },
  {
   "cell_type": "code",
   "execution_count": null,
   "id": "804452f9",
   "metadata": {},
   "outputs": [],
   "source": [
    "training_data"
   ]
  }
 ],
 "metadata": {
  "kernelspec": {
   "display_name": "interactive-clustering",
   "language": "python",
   "name": "python3"
  },
  "language_info": {
   "codemirror_mode": {
    "name": "ipython",
    "version": 3
   },
   "file_extension": ".py",
   "mimetype": "text/x-python",
   "name": "python",
   "nbconvert_exporter": "python",
   "pygments_lexer": "ipython3",
   "version": "3.12.3"
  }
 },
 "nbformat": 4,
 "nbformat_minor": 5
}
