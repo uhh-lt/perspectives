{
 "cells": [
  {
   "cell_type": "code",
   "execution_count": 14,
   "id": "9771e419",
   "metadata": {},
   "outputs": [],
   "source": [
    "from pathlib import Path\n",
    "import re\n",
    "import xml.etree.ElementTree as ET\n",
    "import pandas as pd\n",
    "import seaborn as sns\n",
    "import matplotlib.pyplot as plt"
   ]
  },
  {
   "cell_type": "code",
   "execution_count": null,
   "id": "2d949fed",
   "metadata": {},
   "outputs": [],
   "source": [
    "Literatur & Unterhaltung, Sachbuch, Kinderbuch & Jugendbuch, Ratgeber, Ganzheitliches Bewusstsein, Glaube & Ethik, Architektur & Garten, and Künste."
   ]
  },
  {
   "cell_type": "code",
   "execution_count": 15,
   "id": "ad3ab934",
   "metadata": {},
   "outputs": [],
   "source": [
    "def fix_xml(entry):\n",
    "    # Escape ampersands not part of an entity\n",
    "    entry = re.sub(r'&(?![a-zA-Z]+;)', '&amp;', entry)\n",
    "    # Remove percent-encoded newlines in URLs\n",
    "    entry = entry.replace('%0A', '')\n",
    "    return entry\n",
    "\n",
    "def parse_books(file_path):\n",
    "    with open(file_path, encoding='utf-8') as f:\n",
    "        text = f.read()\n",
    "\n",
    "    book_entries = re.findall(r'(<book.*?</book>)', text, re.DOTALL)\n",
    "    books = []\n",
    "    for entry in book_entries:\n",
    "        entry_fixed = fix_xml(entry)\n",
    "        try:\n",
    "            root = ET.fromstring(entry_fixed)\n",
    "            title = root.findtext('title')\n",
    "            body = root.findtext('body')\n",
    "            categories = []\n",
    "            for cat in root.findall('.//category'):\n",
    "                cat_topics = [topic.text for topic in cat.findall('topic')]\n",
    "                categories.append(cat_topics)\n",
    "            books.append({\n",
    "                'text': f\"{title}\\n\\n{body}\",\n",
    "                'category': categories[0][0],\n",
    "                # 'categories': categories\n",
    "            })\n",
    "        except ET.ParseError as e:\n",
    "            print(f\"Error parsing entry: {e}\")\n",
    "    return books"
   ]
  },
  {
   "cell_type": "code",
   "execution_count": 16,
   "id": "78084d8e",
   "metadata": {},
   "outputs": [],
   "source": [
    "def stratified_sample(df, category_col, n_total, min_per_category):\n",
    "    # Sample min_per_category from each category, get their indices\n",
    "    sampled_indices = []\n",
    "    for cat, group in df.groupby(category_col):\n",
    "        n = min(len(group), min_per_category)\n",
    "        sampled_indices.extend(group.sample(n=n, random_state=42).index.tolist())\n",
    "    \n",
    "    # Remove already sampled indices\n",
    "    remaining_df = df.drop(index=sampled_indices)\n",
    "    remaining_n = n_total - len(sampled_indices)\n",
    "    if remaining_n > 0:\n",
    "        additional_indices = remaining_df.sample(n=remaining_n, random_state=42).index.tolist()\n",
    "        all_indices = sampled_indices + additional_indices\n",
    "    else:\n",
    "        all_indices = sampled_indices[:n_total]\n",
    "    \n",
    "    # Return the sampled dataframe without duplicates\n",
    "    return df.loc[all_indices].reset_index(drop=True)"
   ]
  },
  {
   "cell_type": "code",
   "execution_count": 17,
   "id": "c71b1480",
   "metadata": {},
   "outputs": [],
   "source": [
    "dev_data = Path(\"data/blurbs_dev.txt\")\n",
    "dev_books = parse_books(dev_data)\n",
    "dev_df = pd.DataFrame(dev_books)"
   ]
  },
  {
   "cell_type": "code",
   "execution_count": 18,
   "id": "33f2e514",
   "metadata": {},
   "outputs": [],
   "source": [
    "test_data = Path(\"data/blurbs_test.txt\")\n",
    "test_books = parse_books(test_data)\n",
    "test_df = pd.DataFrame(test_books)"
   ]
  },
  {
   "cell_type": "code",
   "execution_count": 19,
   "id": "0462fd27",
   "metadata": {},
   "outputs": [
    {
     "data": {
      "text/plain": [
       "category\n",
       "Literatur & Unterhaltung      3200\n",
       "Sachbuch                       895\n",
       "Kinderbuch & Jugendbuch        820\n",
       "Ratgeber                       694\n",
       "Ganzheitliches Bewusstsein     285\n",
       "Glaube & Ethik                 232\n",
       "Architektur & Garten            60\n",
       "Künste                          50\n",
       "Name: count, dtype: int64"
      ]
     },
     "execution_count": 19,
     "metadata": {},
     "output_type": "execute_result"
    }
   ],
   "source": [
    "test_df = pd.concat([test_df, dev_df], ignore_index=True)\n",
    "test_df['category'].value_counts()"
   ]
  },
  {
   "cell_type": "code",
   "execution_count": 20,
   "id": "4057ee5a",
   "metadata": {},
   "outputs": [
    {
     "data": {
      "text/plain": [
       "category\n",
       "Literatur & Unterhaltung      726\n",
       "Sachbuch                      237\n",
       "Kinderbuch & Jugendbuch       234\n",
       "Ratgeber                      194\n",
       "Ganzheitliches Bewusstsein    107\n",
       "Glaube & Ethik                101\n",
       "Architektur & Garten           51\n",
       "Künste                         50\n",
       "Name: count, dtype: int64"
      ]
     },
     "execution_count": 20,
     "metadata": {},
     "output_type": "execute_result"
    }
   ],
   "source": [
    "test_df_sampled = stratified_sample(test_df, 'category', n_total=1700, min_per_category=50)\n",
    "test_df_sampled['category'].value_counts()"
   ]
  },
  {
   "cell_type": "code",
   "execution_count": 21,
   "id": "ec86feeb",
   "metadata": {},
   "outputs": [],
   "source": [
    "# remove rows with category \"Literatur & Unterhaltung\" so that only 250 rows remain\n",
    "test_df_sampled2 = test_df_sampled[test_df_sampled['category'] != 'Literatur & Unterhaltung']\n",
    "test_df_sampled3 = test_df_sampled[test_df_sampled['category'] == 'Literatur & Unterhaltung'].sample(n=250, random_state=42)\n",
    "test_df_sampled_final = pd.concat([test_df_sampled2, test_df_sampled3], ignore_index=True)"
   ]
  },
  {
   "cell_type": "code",
   "execution_count": 22,
   "id": "3cff3cc1",
   "metadata": {},
   "outputs": [
    {
     "data": {
      "text/plain": [
       "category\n",
       "Literatur & Unterhaltung      7622\n",
       "Sachbuch                      1999\n",
       "Kinderbuch & Jugendbuch       1897\n",
       "Ratgeber                      1630\n",
       "Ganzheitliches Bewusstsein     638\n",
       "Glaube & Ethik                 502\n",
       "Künste                         133\n",
       "Architektur & Garten           127\n",
       "Name: count, dtype: int64"
      ]
     },
     "execution_count": 22,
     "metadata": {},
     "output_type": "execute_result"
    }
   ],
   "source": [
    "train_data = Path(\"data/blurbs_train.txt\")\n",
    "train_books = parse_books(train_data)\n",
    "train_df = pd.DataFrame(train_books)\n",
    "train_df['category'].value_counts()"
   ]
  },
  {
   "cell_type": "code",
   "execution_count": 23,
   "id": "c2917c93",
   "metadata": {},
   "outputs": [
    {
     "data": {
      "text/plain": [
       "20784"
      ]
     },
     "execution_count": 23,
     "metadata": {},
     "output_type": "execute_result"
    }
   ],
   "source": [
    "len(test_df) + len(train_df)"
   ]
  },
  {
   "cell_type": "code",
   "execution_count": 24,
   "id": "2036135f",
   "metadata": {},
   "outputs": [
    {
     "data": {
      "text/plain": [
       "category\n",
       "Literatur & Unterhaltung      1777\n",
       "Kinderbuch & Jugendbuch        537\n",
       "Sachbuch                       531\n",
       "Ratgeber                       459\n",
       "Ganzheitliches Bewusstsein     244\n",
       "Glaube & Ethik                 207\n",
       "Künste                         124\n",
       "Architektur & Garten           121\n",
       "Name: count, dtype: int64"
      ]
     },
     "execution_count": 24,
     "metadata": {},
     "output_type": "execute_result"
    }
   ],
   "source": [
    "train_df_sampled = stratified_sample(train_df, 'category', n_total=4000, min_per_category=120)\n",
    "train_df_sampled['category'].value_counts()"
   ]
  },
  {
   "cell_type": "code",
   "execution_count": 25,
   "id": "2b7c1455",
   "metadata": {},
   "outputs": [],
   "source": [
    "# remove rows with category \"Literatur & Unterhaltung\" so that only 250 rows remain\n",
    "train_df_sampled2 = train_df_sampled[train_df_sampled['category'] != 'Literatur & Unterhaltung']\n",
    "train_df_sampled3 = train_df_sampled[train_df_sampled['category'] == 'Literatur & Unterhaltung'].sample(n=550, random_state=42)\n",
    "train_df_sampled_final = pd.concat([train_df_sampled2, train_df_sampled3], ignore_index=True)"
   ]
  },
  {
   "cell_type": "code",
   "execution_count": 26,
   "id": "98d1004a",
   "metadata": {},
   "outputs": [],
   "source": [
    "def plot_column_distribution(dataframe, column_name):\n",
    "    \"\"\"\n",
    "    Plots the distribution of a specified column in the DataFrame.\n",
    "    Args:\n",
    "        dataframe (pd.DataFrame): The DataFrame containing the data.\n",
    "        column_name (str): The name of the column to plot.\n",
    "    \"\"\"\n",
    "    sns.set(style=\"whitegrid\")\n",
    "    plt.figure(figsize=(12, 6))\n",
    "    sns.countplot(data=dataframe, x=column_name, order=dataframe[column_name].value_counts().index)\n",
    "    plt.title(f\"Distribution of {column_name}\")\n",
    "    plt.xlabel(column_name)\n",
    "    plt.ylabel(\"Count\")\n",
    "    plt.xticks(rotation=90)\n",
    "    plt.tight_layout()\n",
    "    plt.show()"
   ]
  },
  {
   "cell_type": "code",
   "execution_count": null,
   "id": "ee6faaa0",
   "metadata": {},
   "outputs": [],
   "source": [
    "plot_column_distribution(train_df_sampled_final, \"category\")"
   ]
  },
  {
   "cell_type": "code",
   "execution_count": null,
   "id": "f0f6fb33",
   "metadata": {},
   "outputs": [],
   "source": [
    "plot_column_distribution(test_df_sampled_final, \"category\")"
   ]
  },
  {
   "cell_type": "code",
   "execution_count": 27,
   "id": "8bb3b20b",
   "metadata": {},
   "outputs": [
    {
     "data": {
      "text/plain": [
       "1224"
      ]
     },
     "execution_count": 27,
     "metadata": {},
     "output_type": "execute_result"
    }
   ],
   "source": [
    "len(test_df_sampled_final)"
   ]
  },
  {
   "cell_type": "code",
   "execution_count": null,
   "id": "22b34931",
   "metadata": {},
   "outputs": [],
   "source": [
    "# save the sampled dataframe to a new CSV file\n",
    "# but we switch train and test (as we do not need many train examples for few-shot training)\n",
    "parquet_output_path = Path(\"data/germeval_test.parquet\")\n",
    "train_df_sampled_final.to_parquet(parquet_output_path, index=False)\n",
    "parquet_output_path = Path(\"data/germeval_train.parquet\")\n",
    "test_df_sampled_final.to_parquet(parquet_output_path, index=False)"
   ]
  },
  {
   "cell_type": "code",
   "execution_count": null,
   "id": "96b158b1",
   "metadata": {},
   "outputs": [],
   "source": []
  }
 ],
 "metadata": {
  "kernelspec": {
   "display_name": "interactive-clustering",
   "language": "python",
   "name": "python3"
  },
  "language_info": {
   "codemirror_mode": {
    "name": "ipython",
    "version": 3
   },
   "file_extension": ".py",
   "mimetype": "text/x-python",
   "name": "python",
   "nbconvert_exporter": "python",
   "pygments_lexer": "ipython3",
   "version": "3.12.3"
  }
 },
 "nbformat": 4,
 "nbformat_minor": 5
}
